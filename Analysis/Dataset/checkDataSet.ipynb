{
 "cells": [
  {
   "cell_type": "code",
   "execution_count": 17,
   "id": "3d39422c",
   "metadata": {},
   "outputs": [],
   "source": [
    "from utils import read_data\n",
    "from collections import Counter\n",
    "import matplotlib.pyplot as plt"
   ]
  },
  {
   "cell_type": "code",
   "execution_count": 7,
   "id": "ab59f981",
   "metadata": {},
   "outputs": [
    {
     "name": "stdout",
     "output_type": "stream",
     "text": [
      "75222 images were found in dataset.\n",
      "45095 images for training.\n",
      "22619 images for test.\n",
      "7508 images for validation.\n"
     ]
    }
   ],
   "source": [
    "datadict = read_data('E:\\Code\\Pytorch_gpu\\Data\\pest\\classification', 3)"
   ]
  },
  {
   "cell_type": "code",
   "execution_count": 14,
   "id": "c195b25e",
   "metadata": {},
   "outputs": [],
   "source": [
    "def draw_from_dict(dicdata,RANGE, heng=0):\n",
    "    #dicdata：字典的数据。\n",
    "    #RANGE：截取显示的字典的长度。\n",
    "    #heng=0，代表条状图的柱子是竖直向上的。heng=1，代表柱子是横向的。考虑到文字是从左到右的，让柱子横向排列更容易观察坐标轴。\n",
    "    by_value = sorted(dicdata.items(),key = lambda item:item[1],reverse=True)\n",
    "    x = []\n",
    "    y = []\n",
    "    for d in by_value:\n",
    "        x.append(d[0])\n",
    "        y.append(d[1])\n",
    "    if heng == 0:\n",
    "        plt.bar(x[0:RANGE], y[0:RANGE])\n",
    "        plt.show()\n",
    "        return \n",
    "    elif heng == 1:\n",
    "        plt.barh(x[0:RANGE], y[0:RANGE])\n",
    "        plt.show()\n",
    "        return \n",
    "    else:\n",
    "        return \"heng的值仅为0或1！\""
   ]
  },
  {
   "cell_type": "code",
   "execution_count": 19,
   "id": "ff1a4980",
   "metadata": {},
   "outputs": [
    {
     "data": {
      "image/png": "[encoded data removed]",
      "text/plain": [
       "<Figure size 432x288 with 1 Axes>"
      ]
     },
     "metadata": {
      "needs_background": "light"
     },
     "output_type": "display_data"
    }
   ],
   "source": [
    "draw_from_dict(dict(Counter(datadict['train'][1])), 4000)"
   ]
  },
  {
   "cell_type": "code",
   "execution_count": 20,
   "id": "341feb6b",
   "metadata": {},
   "outputs": [
    {
     "data": {
      "image/png": "[encoded data removed]",
      "text/plain": [
       "<Figure size 432x288 with 1 Axes>"
      ]
     },
     "metadata": {
      "needs_background": "light"
     },
     "output_type": "display_data"
    }
   ],
   "source": [
    "draw_from_dict(dict(Counter(datadict['valid'][1])), 4000)"
   ]
  },
  {
   "cell_type": "code",
   "execution_count": 21,
   "id": "0633fad5",
   "metadata": {},
   "outputs": [
    {
     "data": {
      "image/png": "[encoded data removed]",
      "text/plain": [
       "<Figure size 432x288 with 1 Axes>"
      ]
     },
     "metadata": {
      "needs_background": "light"
     },
     "output_type": "display_data"
    }
   ],
   "source": [
    "draw_from_dict(dict(Counter(datadict['test'][1])), 4000)"
   ]
  }
 ],
 "metadata": {
  "kernelspec": {
   "display_name": "Python 3 (ipykernel)",
   "language": "python",
   "name": "python3"
  },
  "language_info": {
   "codemirror_mode": {
    "name": "ipython",
    "version": 3
   },
   "file_extension": ".py",
   "mimetype": "text/x-python",
   "name": "python",
   "nbconvert_exporter": "python",
   "pygments_lexer": "ipython3",
   "version": "3.9.12"
  }
 },
 "nbformat": 4,
 "nbformat_minor": 5
}
